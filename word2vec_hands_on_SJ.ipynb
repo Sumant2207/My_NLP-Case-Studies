{
 "cells": [
  {
   "cell_type": "code",
   "execution_count": 4,
   "metadata": {},
   "outputs": [],
   "source": [
    "# Gensim has inbuilt models like word2vec and Glove\n",
    "# !pip install -U gensim\n",
    "# Importing libraries\n",
    "\n",
    "from gensim.test.utils import datapath, get_tmpfile\n",
    "from gensim.models import keyedvectors"
   ]
  },
  {
   "cell_type": "code",
   "execution_count": 3,
   "metadata": {},
   "outputs": [],
   "source": [
    "path = r'D:\\Sumant\\New folder\\AIML\\Deep Learning\\NLP\\Word Embedding\\Glove pre_trained model/'"
   ]
  },
  {
   "cell_type": "code",
   "execution_count": 5,
   "metadata": {},
   "outputs": [],
   "source": [
    "glove_file = datapath(path+'glove.6B.50d.txt')"
   ]
  },
  {
   "cell_type": "code",
   "execution_count": 7,
   "metadata": {},
   "outputs": [],
   "source": [
    "tmp_file = get_tmpfile(path+'word2vec.glove.6B.50d.txt')"
   ]
  },
  {
   "cell_type": "code",
   "execution_count": 10,
   "metadata": {},
   "outputs": [
    {
     "name": "stdout",
     "output_type": "stream",
     "text": [
      "Requirement already up-to-date: gensim in d:\\sumant\\new folder\\anaconda\\lib\\site-packages (3.8.1)\n",
      "Requirement already satisfied, skipping upgrade: six>=1.5.0 in d:\\sumant\\new folder\\anaconda\\lib\\site-packages (from gensim) (1.12.0)\n",
      "Requirement already satisfied, skipping upgrade: scipy>=0.18.1 in d:\\sumant\\new folder\\anaconda\\lib\\site-packages (from gensim) (1.2.1)\n",
      "Requirement already satisfied, skipping upgrade: smart-open>=1.8.1 in d:\\sumant\\new folder\\anaconda\\lib\\site-packages (from gensim) (1.9.0)\n",
      "Requirement already satisfied, skipping upgrade: numpy>=1.11.3 in d:\\sumant\\new folder\\anaconda\\lib\\site-packages (from gensim) (1.16.4)\n",
      "Requirement already satisfied, skipping upgrade: boto>=2.32 in d:\\sumant\\new folder\\anaconda\\lib\\site-packages (from smart-open>=1.8.1->gensim) (2.49.0)\n",
      "Requirement already satisfied, skipping upgrade: requests in d:\\sumant\\new folder\\anaconda\\lib\\site-packages (from smart-open>=1.8.1->gensim) (2.22.0)\n",
      "Requirement already satisfied, skipping upgrade: boto3 in d:\\sumant\\new folder\\anaconda\\lib\\site-packages (from smart-open>=1.8.1->gensim) (1.10.42)\n",
      "Requirement already satisfied, skipping upgrade: idna<2.9,>=2.5 in d:\\sumant\\new folder\\anaconda\\lib\\site-packages (from requests->smart-open>=1.8.1->gensim) (2.8)\n",
      "Requirement already satisfied, skipping upgrade: urllib3!=1.25.0,!=1.25.1,<1.26,>=1.21.1 in d:\\sumant\\new folder\\anaconda\\lib\\site-packages (from requests->smart-open>=1.8.1->gensim) (1.24.2)\n",
      "Requirement already satisfied, skipping upgrade: chardet<3.1.0,>=3.0.2 in d:\\sumant\\new folder\\anaconda\\lib\\site-packages (from requests->smart-open>=1.8.1->gensim) (3.0.4)\n",
      "Requirement already satisfied, skipping upgrade: certifi>=2017.4.17 in d:\\sumant\\new folder\\anaconda\\lib\\site-packages (from requests->smart-open>=1.8.1->gensim) (2019.6.16)\n",
      "Requirement already satisfied, skipping upgrade: s3transfer<0.3.0,>=0.2.0 in d:\\sumant\\new folder\\anaconda\\lib\\site-packages (from boto3->smart-open>=1.8.1->gensim) (0.2.1)\n",
      "Requirement already satisfied, skipping upgrade: botocore<1.14.0,>=1.13.42 in d:\\sumant\\new folder\\anaconda\\lib\\site-packages (from boto3->smart-open>=1.8.1->gensim) (1.13.42)\n",
      "Requirement already satisfied, skipping upgrade: jmespath<1.0.0,>=0.7.1 in d:\\sumant\\new folder\\anaconda\\lib\\site-packages (from boto3->smart-open>=1.8.1->gensim) (0.9.4)\n",
      "Requirement already satisfied, skipping upgrade: docutils<0.16,>=0.10 in d:\\sumant\\new folder\\anaconda\\lib\\site-packages (from botocore<1.14.0,>=1.13.42->boto3->smart-open>=1.8.1->gensim) (0.14)\n",
      "Requirement already satisfied, skipping upgrade: python-dateutil<2.8.1,>=2.1; python_version >= \"2.7\" in d:\\sumant\\new folder\\anaconda\\lib\\site-packages (from botocore<1.14.0,>=1.13.42->boto3->smart-open>=1.8.1->gensim) (2.8.0)\n"
     ]
    }
   ],
   "source": [
    "!pip install --upgrade gensim"
   ]
  },
  {
   "cell_type": "code",
   "execution_count": 20,
   "metadata": {},
   "outputs": [],
   "source": [
    "from gensim.scripts.glove2word2vec import glove2word2vec\n",
    "# from gensim.models.keyedvectors import load_word2vec_format\n",
    "glove2word2vec(glove_file,tmp_file)\n",
    "model= gensim.models.KeyedVectors.load_word2vec_format(tmp_file)"
   ]
  },
  {
   "cell_type": "code",
   "execution_count": 21,
   "metadata": {},
   "outputs": [],
   "source": [
    "# checking the embedding\n",
    "wordembed = model['cat']"
   ]
  },
  {
   "cell_type": "code",
   "execution_count": 22,
   "metadata": {},
   "outputs": [
    {
     "name": "stdout",
     "output_type": "stream",
     "text": [
      "(50,)\n",
      "[ 0.45281  -0.50108  -0.53714  -0.015697  0.22191   0.54602  -0.67301\n",
      " -0.6891    0.63493  -0.19726   0.33685   0.7735    0.90094   0.38488\n",
      "  0.38367   0.2657   -0.08057   0.61089  -1.2894   -0.22313  -0.61578\n",
      "  0.21697   0.35614   0.44499   0.60885  -1.1633   -1.1579    0.36118\n",
      "  0.10466  -0.78325   1.4352    0.18629  -0.26112   0.83275  -0.23123\n",
      "  0.32481   0.14485  -0.44552   0.33497  -0.95946  -0.097479  0.48138\n",
      " -0.43352   0.69455   0.91043  -0.28173   0.41637  -1.2609    0.71278\n",
      "  0.23782 ]\n"
     ]
    }
   ],
   "source": [
    "print(wordembed.shape)\n",
    "print(wordembed)"
   ]
  },
  {
   "cell_type": "code",
   "execution_count": 24,
   "metadata": {},
   "outputs": [
    {
     "name": "stdout",
     "output_type": "stream",
     "text": [
      "ram is in the model\n"
     ]
    }
   ],
   "source": [
    "# In case a word is not in the module\n",
    "word = 'ram'\n",
    "if word in model:\n",
    "    print('{0} is in the model'.format(word))\n",
    "else:\n",
    "    print('{0} is not in the model'.format(word))"
   ]
  },
  {
   "cell_type": "code",
   "execution_count": 25,
   "metadata": {},
   "outputs": [
    {
     "name": "stdout",
     "output_type": "stream",
     "text": [
      "[('harbor', 0.7709523439407349), ('shore', 0.7697126865386963), ('tampa', 0.764920711517334), ('baltimore', 0.7272587418556213), ('coast', 0.7215232849121094), ('hudson', 0.7168272733688354), ('florida', 0.7157342433929443), ('lake', 0.7012733817100525), ('sea', 0.6981890201568604), ('port', 0.6976077556610107)]\n"
     ]
    }
   ],
   "source": [
    "#looking at similar words, we look at cosine similarity\n",
    "print(model.most_similar(positive = ['bay']))\n"
   ]
  },
  {
   "cell_type": "code",
   "execution_count": 27,
   "metadata": {},
   "outputs": [
    {
     "name": "stdout",
     "output_type": "stream",
     "text": [
      "[('toddler', 0.7926537990570068), ('teenage', 0.7791370749473572), ('girls', 0.7590369582176208), ('12-year-old', 0.7517068386077881), ('girlfriend', 0.7495955228805542), ('baby', 0.7431076169013977), ('teen', 0.7420293092727661), ('9-year', 0.7407599091529846), ('14-year-old', 0.7330296039581299), ('orphan', 0.726045548915863)]\n"
     ]
    }
   ],
   "source": [
    "# Word which is more like X but unlike y\n",
    "print(model.most_similar(positive=['boy','girl'],negative=['man']))"
   ]
  },
  {
   "cell_type": "code",
   "execution_count": 31,
   "metadata": {},
   "outputs": [
    {
     "name": "stdout",
     "output_type": "stream",
     "text": [
      "man\n"
     ]
    }
   ],
   "source": [
    "# finding odd man out\n",
    "print(model.doesnt_match('boy girl woman man'.split()))"
   ]
  },
  {
   "cell_type": "code",
   "execution_count": 32,
   "metadata": {},
   "outputs": [
    {
     "name": "stdout",
     "output_type": "stream",
     "text": [
      "0.3214929\n"
     ]
    }
   ],
   "source": [
    "# looking at similarity between 2 unrelated objects,it should remain low\n",
    "print(model.similarity('woman','rose'))"
   ]
  },
  {
   "cell_type": "code",
   "execution_count": 33,
   "metadata": {},
   "outputs": [
    {
     "name": "stdout",
     "output_type": "stream",
     "text": [
      "[('father', 0.7663824558258057), ('king', 0.7558298110961914), ('son', 0.7507176995277405), ('daughter', 0.7374652624130249), ('mother', 0.73592209815979), ('death', 0.731842041015625), ('grandson', 0.7177383303642273), ('brother', 0.7152057886123657), ('niece', 0.7132353782653809), ('widow', 0.7087066173553467)]\n"
     ]
    }
   ],
   "source": [
    "# Looking at vector difference and check the one that is closest\n",
    "print(model.similar_by_vector(model['king']-model['green']+model['woman']))"
   ]
  },
  {
   "cell_type": "code",
   "execution_count": 35,
   "metadata": {},
   "outputs": [
    {
     "name": "stdout",
     "output_type": "stream",
     "text": [
      "[('indies', 0.8089947700500488), ('twenty20', 0.8088221549987793), ('rugby', 0.8044811487197876), ('cricketers', 0.7978312373161316), ('england', 0.7800652980804443), ('wc2003', 0.7499520778656006), ('wc2003-wis', 0.7357773780822754), ('bowling', 0.7342497110366821), ('mcc', 0.7253372669219971), ('zealand', 0.7152737379074097)]\n"
     ]
    }
   ],
   "source": [
    "print(model.most_similar(positive=['cricket']))"
   ]
  },
  {
   "cell_type": "code",
   "execution_count": null,
   "metadata": {},
   "outputs": [],
   "source": []
  }
 ],
 "metadata": {
  "kernelspec": {
   "display_name": "Python 3",
   "language": "python",
   "name": "python3"
  },
  "language_info": {
   "codemirror_mode": {
    "name": "ipython",
    "version": 3
   },
   "file_extension": ".py",
   "mimetype": "text/x-python",
   "name": "python",
   "nbconvert_exporter": "python",
   "pygments_lexer": "ipython3",
   "version": "3.7.3"
  }
 },
 "nbformat": 4,
 "nbformat_minor": 2
}
